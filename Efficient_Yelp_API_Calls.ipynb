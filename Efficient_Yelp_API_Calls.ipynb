{
 "cells": [
  {
   "cell_type": "markdown",
   "id": "a0e6d2c5",
   "metadata": {},
   "source": [
    "## Efficient Yelp API Calls (Core)\n",
    "\n",
    "#### Jonathan Jones\n",
    "#### 22.06.28"
   ]
  },
  {
   "cell_type": "code",
   "execution_count": 1,
   "id": "51c2d49e",
   "metadata": {},
   "outputs": [
    {
     "data": {
      "text/plain": [
       "dict_keys(['client-id', 'api-key'])"
      ]
     },
     "execution_count": 1,
     "metadata": {},
     "output_type": "execute_result"
    }
   ],
   "source": [
    "import json\n",
    "with open('/Users/jnate/.secret/yelp_api.json') as f: #change the path to match YOUR path!!\n",
    "    login = json.load(f)\n",
    "login.keys()"
   ]
  },
  {
   "cell_type": "code",
   "execution_count": 2,
   "id": "06d6044d",
   "metadata": {},
   "outputs": [
    {
     "data": {
      "text/plain": [
       "<yelpapi.yelpapi.YelpAPI at 0x1c793720808>"
      ]
     },
     "execution_count": 2,
     "metadata": {},
     "output_type": "execute_result"
    }
   ],
   "source": [
    "# Import YelpAPI Class:\n",
    "\n",
    "from yelpapi import YelpAPI\n",
    "yelp_api = YelpAPI(login['api-key'], timeout_s=5.0)\n",
    "yelp_api"
   ]
  },
  {
   "cell_type": "markdown",
   "id": "16819f6c",
   "metadata": {},
   "source": [
    "***Objective:*** use the Yelp API to search your favorite city for a cuisine type of your choice.Extract all of the results from your search and compile them into one dataframe using a for loop."
   ]
  },
  {
   "cell_type": "code",
   "execution_count": 8,
   "id": "5e031440",
   "metadata": {},
   "outputs": [
    {
     "name": "stdout",
     "output_type": "stream",
     "text": [
      "<class 'dict'>\n"
     ]
    },
    {
     "data": {
      "text/plain": [
       "dict_keys(['businesses', 'total', 'region'])"
      ]
     },
     "execution_count": 8,
     "metadata": {},
     "output_type": "execute_result"
    }
   ],
   "source": [
    "# Use our yelp_api search_query to perform our API call:\n",
    "\n",
    "search_results = yelp_api.search_query(location='New York City, NY,10001',\n",
    "                                       term='Vegan')\n",
    "print(type(search_results))\n",
    "search_results.keys()"
   ]
  },
  {
   "cell_type": "code",
   "execution_count": 9,
   "id": "5e31ac69",
   "metadata": {},
   "outputs": [
    {
     "data": {
      "text/plain": [
       "2000"
      ]
     },
     "execution_count": 9,
     "metadata": {},
     "output_type": "execute_result"
    }
   ],
   "source": [
    "search_results['total']"
   ]
  },
  {
   "cell_type": "markdown",
   "id": "10dd8e09",
   "metadata": {},
   "source": [
    "Extract all of the results from your search and compile them into one dataframe using a for loop as shown in the lesson \"Code for Efficient API Extraction\""
   ]
  },
  {
   "cell_type": "code",
   "execution_count": 12,
   "id": "bcbc6231",
   "metadata": {},
   "outputs": [
    {
     "data": {
      "text/html": [
       "<div>\n",
       "<style scoped>\n",
       "    .dataframe tbody tr th:only-of-type {\n",
       "        vertical-align: middle;\n",
       "    }\n",
       "\n",
       "    .dataframe tbody tr th {\n",
       "        vertical-align: top;\n",
       "    }\n",
       "\n",
       "    .dataframe thead th {\n",
       "        text-align: right;\n",
       "    }\n",
       "</style>\n",
       "<table border=\"1\" class=\"dataframe\">\n",
       "  <thead>\n",
       "    <tr style=\"text-align: right;\">\n",
       "      <th></th>\n",
       "      <th>id</th>\n",
       "      <th>alias</th>\n",
       "      <th>name</th>\n",
       "      <th>image_url</th>\n",
       "      <th>is_closed</th>\n",
       "      <th>url</th>\n",
       "      <th>review_count</th>\n",
       "      <th>categories</th>\n",
       "      <th>rating</th>\n",
       "      <th>coordinates</th>\n",
       "      <th>transactions</th>\n",
       "      <th>location</th>\n",
       "      <th>phone</th>\n",
       "      <th>display_phone</th>\n",
       "      <th>distance</th>\n",
       "      <th>price</th>\n",
       "    </tr>\n",
       "  </thead>\n",
       "  <tbody>\n",
       "    <tr>\n",
       "      <th>0</th>\n",
       "      <td>IXGLhRPnboqlWymYQ5_b0g</td>\n",
       "      <td>willow-vegan-restaurant-new-york</td>\n",
       "      <td>Willow Vegan Restaurant</td>\n",
       "      <td>https://s3-media3.fl.yelpcdn.com/bphoto/ty4lZ6...</td>\n",
       "      <td>False</td>\n",
       "      <td>https://www.yelp.com/biz/willow-vegan-restaura...</td>\n",
       "      <td>231</td>\n",
       "      <td>[{'alias': 'vegan', 'title': 'Vegan'}, {'alias...</td>\n",
       "      <td>4.5</td>\n",
       "      <td>{'latitude': 40.743619, 'longitude': -73.999928}</td>\n",
       "      <td>[pickup, delivery]</td>\n",
       "      <td>{'address1': '199 8th Ave', 'address2': None, ...</td>\n",
       "      <td>+12129292889</td>\n",
       "      <td>(212) 929-2889</td>\n",
       "      <td>959.630486</td>\n",
       "      <td>NaN</td>\n",
       "    </tr>\n",
       "    <tr>\n",
       "      <th>1</th>\n",
       "      <td>q7U2GCMWIZxIqWeMDml0LQ</td>\n",
       "      <td>pure-ktchn-new-york</td>\n",
       "      <td>Pure Ktchn</td>\n",
       "      <td>https://s3-media4.fl.yelpcdn.com/bphoto/kDc7Yk...</td>\n",
       "      <td>False</td>\n",
       "      <td>https://www.yelp.com/biz/pure-ktchn-new-york?a...</td>\n",
       "      <td>363</td>\n",
       "      <td>[{'alias': 'salad', 'title': 'Salad'}, {'alias...</td>\n",
       "      <td>4.5</td>\n",
       "      <td>{'latitude': 40.76053, 'longitude': -73.98992}</td>\n",
       "      <td>[pickup, delivery]</td>\n",
       "      <td>{'address1': '352 West 46th St', 'address2': N...</td>\n",
       "      <td>+16467558502</td>\n",
       "      <td>(646) 755-8502</td>\n",
       "      <td>1090.443189</td>\n",
       "      <td>$$</td>\n",
       "    </tr>\n",
       "    <tr>\n",
       "      <th>2</th>\n",
       "      <td>KxyH5zvTyXawl17lHjA4SQ</td>\n",
       "      <td>beyond-sushi-new-york-5</td>\n",
       "      <td>Beyond Sushi</td>\n",
       "      <td>https://s3-media3.fl.yelpcdn.com/bphoto/5CoaEV...</td>\n",
       "      <td>False</td>\n",
       "      <td>https://www.yelp.com/biz/beyond-sushi-new-york...</td>\n",
       "      <td>630</td>\n",
       "      <td>[{'alias': 'vegan', 'title': 'Vegan'}, {'alias...</td>\n",
       "      <td>4.5</td>\n",
       "      <td>{'latitude': 40.75247, 'longitude': -73.98845}</td>\n",
       "      <td>[pickup, delivery]</td>\n",
       "      <td>{'address1': '134 West 37th St', 'address2': N...</td>\n",
       "      <td>+12125640869</td>\n",
       "      <td>(212) 564-0869</td>\n",
       "      <td>645.115026</td>\n",
       "      <td>$$</td>\n",
       "    </tr>\n",
       "    <tr>\n",
       "      <th>3</th>\n",
       "      <td>U6l20gH8YuOJMO8vF6_Ufw</td>\n",
       "      <td>jajaja-mexicana-new-york</td>\n",
       "      <td>Jajaja Mexicana</td>\n",
       "      <td>https://s3-media4.fl.yelpcdn.com/bphoto/twcGRQ...</td>\n",
       "      <td>False</td>\n",
       "      <td>https://www.yelp.com/biz/jajaja-mexicana-new-y...</td>\n",
       "      <td>41</td>\n",
       "      <td>[{'alias': 'mexican', 'title': 'Mexican'}, {'a...</td>\n",
       "      <td>4.5</td>\n",
       "      <td>{'latitude': 40.75264793272132, 'longitude': -...</td>\n",
       "      <td>[pickup, delivery]</td>\n",
       "      <td>{'address1': '450 W 33rd St', 'address2': None...</td>\n",
       "      <td>+19177228419</td>\n",
       "      <td>(917) 722-8419</td>\n",
       "      <td>320.020283</td>\n",
       "      <td>NaN</td>\n",
       "    </tr>\n",
       "    <tr>\n",
       "      <th>4</th>\n",
       "      <td>oTL_nPII6x0HfPVpEQklUg</td>\n",
       "      <td>planta-queen-nomad-new-york</td>\n",
       "      <td>PLANTA Queen - Nomad</td>\n",
       "      <td>https://s3-media4.fl.yelpcdn.com/bphoto/HJHCvy...</td>\n",
       "      <td>False</td>\n",
       "      <td>https://www.yelp.com/biz/planta-queen-nomad-ne...</td>\n",
       "      <td>347</td>\n",
       "      <td>[{'alias': 'sushi', 'title': 'Sushi Bars'}, {'...</td>\n",
       "      <td>4.5</td>\n",
       "      <td>{'latitude': 40.744435, 'longitude': -73.98832}</td>\n",
       "      <td>[pickup, delivery]</td>\n",
       "      <td>{'address1': '15 W 27th St', 'address2': None,...</td>\n",
       "      <td>+19176757700</td>\n",
       "      <td>(917) 675-7700</td>\n",
       "      <td>1052.904676</td>\n",
       "      <td>$$</td>\n",
       "    </tr>\n",
       "    <tr>\n",
       "      <th>5</th>\n",
       "      <td>FaR-Kv-0ZzgcqFW1sCnacw</td>\n",
       "      <td>citizens-of-chelsea-new-york</td>\n",
       "      <td>Citizens Of Chelsea</td>\n",
       "      <td>https://s3-media2.fl.yelpcdn.com/bphoto/_cxSZH...</td>\n",
       "      <td>False</td>\n",
       "      <td>https://www.yelp.com/biz/citizens-of-chelsea-n...</td>\n",
       "      <td>899</td>\n",
       "      <td>[{'alias': 'coffee', 'title': 'Coffee &amp; Tea'},...</td>\n",
       "      <td>4.0</td>\n",
       "      <td>{'latitude': 40.748099827409895, 'longitude': ...</td>\n",
       "      <td>[pickup, delivery]</td>\n",
       "      <td>{'address1': '401 W 25th St', 'address2': '', ...</td>\n",
       "      <td>+13475547496</td>\n",
       "      <td>(347) 554-7496</td>\n",
       "      <td>553.714442</td>\n",
       "      <td>$$</td>\n",
       "    </tr>\n",
       "    <tr>\n",
       "      <th>6</th>\n",
       "      <td>ZQZEBz44JcRKOzGvzP-uEw</td>\n",
       "      <td>scen-new-york</td>\n",
       "      <td>Scen</td>\n",
       "      <td>https://s3-media1.fl.yelpcdn.com/bphoto/HjfYEq...</td>\n",
       "      <td>False</td>\n",
       "      <td>https://www.yelp.com/biz/scen-new-york?adjust_...</td>\n",
       "      <td>9</td>\n",
       "      <td>[{'alias': 'vegan', 'title': 'Vegan'}]</td>\n",
       "      <td>5.0</td>\n",
       "      <td>{'latitude': 40.74472, 'longitude': -73.98906}</td>\n",
       "      <td>[pickup, delivery]</td>\n",
       "      <td>{'address1': '1165 Broadway', 'address2': '', ...</td>\n",
       "      <td>+16466495658</td>\n",
       "      <td>(646) 649-5658</td>\n",
       "      <td>986.780469</td>\n",
       "      <td>NaN</td>\n",
       "    </tr>\n",
       "    <tr>\n",
       "      <th>7</th>\n",
       "      <td>KXD44wWmrGf7mzyyr0bikw</td>\n",
       "      <td>p-s-kitchen-new-york-3</td>\n",
       "      <td>P.S. Kitchen</td>\n",
       "      <td>https://s3-media3.fl.yelpcdn.com/bphoto/iGyr8t...</td>\n",
       "      <td>False</td>\n",
       "      <td>https://www.yelp.com/biz/p-s-kitchen-new-york-...</td>\n",
       "      <td>579</td>\n",
       "      <td>[{'alias': 'vegetarian', 'title': 'Vegetarian'...</td>\n",
       "      <td>4.5</td>\n",
       "      <td>{'latitude': 40.760706, 'longitude': -73.986627}</td>\n",
       "      <td>[pickup, delivery]</td>\n",
       "      <td>{'address1': '246 W 48th St', 'address2': '', ...</td>\n",
       "      <td>+12126517247</td>\n",
       "      <td>(212) 651-7247</td>\n",
       "      <td>1275.390842</td>\n",
       "      <td>$$</td>\n",
       "    </tr>\n",
       "    <tr>\n",
       "      <th>8</th>\n",
       "      <td>NOa7Z27rQW11-3gkAU2SYg</td>\n",
       "      <td>vegan-on-the-fly-new-york</td>\n",
       "      <td>Vegan on The Fly</td>\n",
       "      <td>https://s3-media1.fl.yelpcdn.com/bphoto/4gS7Cr...</td>\n",
       "      <td>False</td>\n",
       "      <td>https://www.yelp.com/biz/vegan-on-the-fly-new-...</td>\n",
       "      <td>53</td>\n",
       "      <td>[{'alias': 'vegan', 'title': 'Vegan'}, {'alias...</td>\n",
       "      <td>4.5</td>\n",
       "      <td>{'latitude': 40.75585, 'longitude': -73.98078}</td>\n",
       "      <td>[pickup, delivery]</td>\n",
       "      <td>{'address1': '24 W 45th St', 'address2': None,...</td>\n",
       "      <td>+19172658242</td>\n",
       "      <td>(917) 265-8242</td>\n",
       "      <td>1365.593540</td>\n",
       "      <td>NaN</td>\n",
       "    </tr>\n",
       "    <tr>\n",
       "      <th>9</th>\n",
       "      <td>Rc1lxc5lSKJYd162JHNMfQ</td>\n",
       "      <td>bea-new-york</td>\n",
       "      <td>Bea</td>\n",
       "      <td>https://s3-media2.fl.yelpcdn.com/bphoto/m2d14A...</td>\n",
       "      <td>False</td>\n",
       "      <td>https://www.yelp.com/biz/bea-new-york?adjust_c...</td>\n",
       "      <td>2643</td>\n",
       "      <td>[{'alias': 'newamerican', 'title': 'American (...</td>\n",
       "      <td>4.0</td>\n",
       "      <td>{'latitude': 40.7591968, 'longitude': -73.9923...</td>\n",
       "      <td>[restaurant_reservation, delivery]</td>\n",
       "      <td>{'address1': '403 W 43rd St', 'address2': '', ...</td>\n",
       "      <td>+12126021910</td>\n",
       "      <td>(212) 602-1910</td>\n",
       "      <td>883.152974</td>\n",
       "      <td>$$</td>\n",
       "    </tr>\n",
       "  </tbody>\n",
       "</table>\n",
       "</div>"
      ],
      "text/plain": [
       "                       id                             alias  \\\n",
       "0  IXGLhRPnboqlWymYQ5_b0g  willow-vegan-restaurant-new-york   \n",
       "1  q7U2GCMWIZxIqWeMDml0LQ               pure-ktchn-new-york   \n",
       "2  KxyH5zvTyXawl17lHjA4SQ           beyond-sushi-new-york-5   \n",
       "3  U6l20gH8YuOJMO8vF6_Ufw          jajaja-mexicana-new-york   \n",
       "4  oTL_nPII6x0HfPVpEQklUg       planta-queen-nomad-new-york   \n",
       "5  FaR-Kv-0ZzgcqFW1sCnacw      citizens-of-chelsea-new-york   \n",
       "6  ZQZEBz44JcRKOzGvzP-uEw                     scen-new-york   \n",
       "7  KXD44wWmrGf7mzyyr0bikw            p-s-kitchen-new-york-3   \n",
       "8  NOa7Z27rQW11-3gkAU2SYg         vegan-on-the-fly-new-york   \n",
       "9  Rc1lxc5lSKJYd162JHNMfQ                      bea-new-york   \n",
       "\n",
       "                      name                                          image_url  \\\n",
       "0  Willow Vegan Restaurant  https://s3-media3.fl.yelpcdn.com/bphoto/ty4lZ6...   \n",
       "1               Pure Ktchn  https://s3-media4.fl.yelpcdn.com/bphoto/kDc7Yk...   \n",
       "2             Beyond Sushi  https://s3-media3.fl.yelpcdn.com/bphoto/5CoaEV...   \n",
       "3          Jajaja Mexicana  https://s3-media4.fl.yelpcdn.com/bphoto/twcGRQ...   \n",
       "4     PLANTA Queen - Nomad  https://s3-media4.fl.yelpcdn.com/bphoto/HJHCvy...   \n",
       "5      Citizens Of Chelsea  https://s3-media2.fl.yelpcdn.com/bphoto/_cxSZH...   \n",
       "6                     Scen  https://s3-media1.fl.yelpcdn.com/bphoto/HjfYEq...   \n",
       "7             P.S. Kitchen  https://s3-media3.fl.yelpcdn.com/bphoto/iGyr8t...   \n",
       "8         Vegan on The Fly  https://s3-media1.fl.yelpcdn.com/bphoto/4gS7Cr...   \n",
       "9                      Bea  https://s3-media2.fl.yelpcdn.com/bphoto/m2d14A...   \n",
       "\n",
       "   is_closed                                                url  review_count  \\\n",
       "0      False  https://www.yelp.com/biz/willow-vegan-restaura...           231   \n",
       "1      False  https://www.yelp.com/biz/pure-ktchn-new-york?a...           363   \n",
       "2      False  https://www.yelp.com/biz/beyond-sushi-new-york...           630   \n",
       "3      False  https://www.yelp.com/biz/jajaja-mexicana-new-y...            41   \n",
       "4      False  https://www.yelp.com/biz/planta-queen-nomad-ne...           347   \n",
       "5      False  https://www.yelp.com/biz/citizens-of-chelsea-n...           899   \n",
       "6      False  https://www.yelp.com/biz/scen-new-york?adjust_...             9   \n",
       "7      False  https://www.yelp.com/biz/p-s-kitchen-new-york-...           579   \n",
       "8      False  https://www.yelp.com/biz/vegan-on-the-fly-new-...            53   \n",
       "9      False  https://www.yelp.com/biz/bea-new-york?adjust_c...          2643   \n",
       "\n",
       "                                          categories  rating  \\\n",
       "0  [{'alias': 'vegan', 'title': 'Vegan'}, {'alias...     4.5   \n",
       "1  [{'alias': 'salad', 'title': 'Salad'}, {'alias...     4.5   \n",
       "2  [{'alias': 'vegan', 'title': 'Vegan'}, {'alias...     4.5   \n",
       "3  [{'alias': 'mexican', 'title': 'Mexican'}, {'a...     4.5   \n",
       "4  [{'alias': 'sushi', 'title': 'Sushi Bars'}, {'...     4.5   \n",
       "5  [{'alias': 'coffee', 'title': 'Coffee & Tea'},...     4.0   \n",
       "6             [{'alias': 'vegan', 'title': 'Vegan'}]     5.0   \n",
       "7  [{'alias': 'vegetarian', 'title': 'Vegetarian'...     4.5   \n",
       "8  [{'alias': 'vegan', 'title': 'Vegan'}, {'alias...     4.5   \n",
       "9  [{'alias': 'newamerican', 'title': 'American (...     4.0   \n",
       "\n",
       "                                         coordinates  \\\n",
       "0   {'latitude': 40.743619, 'longitude': -73.999928}   \n",
       "1     {'latitude': 40.76053, 'longitude': -73.98992}   \n",
       "2     {'latitude': 40.75247, 'longitude': -73.98845}   \n",
       "3  {'latitude': 40.75264793272132, 'longitude': -...   \n",
       "4    {'latitude': 40.744435, 'longitude': -73.98832}   \n",
       "5  {'latitude': 40.748099827409895, 'longitude': ...   \n",
       "6     {'latitude': 40.74472, 'longitude': -73.98906}   \n",
       "7   {'latitude': 40.760706, 'longitude': -73.986627}   \n",
       "8     {'latitude': 40.75585, 'longitude': -73.98078}   \n",
       "9  {'latitude': 40.7591968, 'longitude': -73.9923...   \n",
       "\n",
       "                         transactions  \\\n",
       "0                  [pickup, delivery]   \n",
       "1                  [pickup, delivery]   \n",
       "2                  [pickup, delivery]   \n",
       "3                  [pickup, delivery]   \n",
       "4                  [pickup, delivery]   \n",
       "5                  [pickup, delivery]   \n",
       "6                  [pickup, delivery]   \n",
       "7                  [pickup, delivery]   \n",
       "8                  [pickup, delivery]   \n",
       "9  [restaurant_reservation, delivery]   \n",
       "\n",
       "                                            location         phone  \\\n",
       "0  {'address1': '199 8th Ave', 'address2': None, ...  +12129292889   \n",
       "1  {'address1': '352 West 46th St', 'address2': N...  +16467558502   \n",
       "2  {'address1': '134 West 37th St', 'address2': N...  +12125640869   \n",
       "3  {'address1': '450 W 33rd St', 'address2': None...  +19177228419   \n",
       "4  {'address1': '15 W 27th St', 'address2': None,...  +19176757700   \n",
       "5  {'address1': '401 W 25th St', 'address2': '', ...  +13475547496   \n",
       "6  {'address1': '1165 Broadway', 'address2': '', ...  +16466495658   \n",
       "7  {'address1': '246 W 48th St', 'address2': '', ...  +12126517247   \n",
       "8  {'address1': '24 W 45th St', 'address2': None,...  +19172658242   \n",
       "9  {'address1': '403 W 43rd St', 'address2': '', ...  +12126021910   \n",
       "\n",
       "    display_phone     distance price  \n",
       "0  (212) 929-2889   959.630486   NaN  \n",
       "1  (646) 755-8502  1090.443189    $$  \n",
       "2  (212) 564-0869   645.115026    $$  \n",
       "3  (917) 722-8419   320.020283   NaN  \n",
       "4  (917) 675-7700  1052.904676    $$  \n",
       "5  (347) 554-7496   553.714442    $$  \n",
       "6  (646) 649-5658   986.780469   NaN  \n",
       "7  (212) 651-7247  1275.390842    $$  \n",
       "8  (917) 265-8242  1365.593540   NaN  \n",
       "9  (212) 602-1910   883.152974    $$  "
      ]
     },
     "execution_count": 12,
     "metadata": {},
     "output_type": "execute_result"
    }
   ],
   "source": [
    "# Import Pandas and create preliminary DataFrame:\n",
    "\n",
    "import pandas as pd\n",
    "\n",
    "# First page of API results:\n",
    "\n",
    "food = pd.DataFrame(search_results['businesses'])\n",
    "food.head(10) "
   ]
  },
  {
   "cell_type": "markdown",
   "id": "600a8348",
   "metadata": {},
   "source": [
    "## Code for Efficient API Extraction"
   ]
  },
  {
   "cell_type": "code",
   "execution_count": 14,
   "id": "cf320cf6",
   "metadata": {},
   "outputs": [],
   "source": [
    "# Standard Imports\n",
    "import numpy as np\n",
    "import pandas as pd\n",
    "import matplotlib.pyplot as plt\n",
    "import seaborn as sns\n",
    "# Additional Imports\n",
    "import os, json, math, time\n",
    "from yelpapi import YelpAPI\n",
    "# from tqdm.notebook import tqdm_notebook"
   ]
  },
  {
   "cell_type": "code",
   "execution_count": 15,
   "id": "029fa3be",
   "metadata": {},
   "outputs": [],
   "source": [
    "# Set API call parameters and filename before the first call:\n",
    "\n",
    "LOCATION = 'New York City, NY, 10001'\n",
    "TERM = 'Vegan'"
   ]
  },
  {
   "cell_type": "code",
   "execution_count": 16,
   "id": "8497799e",
   "metadata": {},
   "outputs": [
    {
     "data": {
      "text/plain": [
       "'Data/results_in_progress_Vegan.json'"
      ]
     },
     "execution_count": 16,
     "metadata": {},
     "output_type": "execute_result"
    }
   ],
   "source": [
    "# Specifying JSON_FILE filename (can include a folder)\n",
    "# include the search terms in the filename:\n",
    "\n",
    "JSON_FILE = f\"Data/results_in_progress_Vegan.json\"\n",
    "JSON_FILE"
   ]
  },
  {
   "cell_type": "code",
   "execution_count": 17,
   "id": "b3d19a73",
   "metadata": {},
   "outputs": [
    {
     "name": "stdout",
     "output_type": "stream",
     "text": [
      "[i] Data/results_in_progress_Vegan.json not found. Saving empty list to file.\n"
     ]
    }
   ],
   "source": [
    "## Check if JSON_FILE exists\n",
    "file_exists = os.path.isfile(JSON_FILE)\n",
    "## If it does not exist: \n",
    "if file_exists == False:\n",
    "    \n",
    "    ## CREATE ANY NEEDED FOLDERS\n",
    "    # Get the Folder Name only\n",
    "    folder = os.path.dirname(JSON_FILE)\n",
    "    ## If JSON_FILE included a folder:\n",
    "    if len(folder)>0:\n",
    "        # create the folder\n",
    "        os.makedirs(folder,exist_ok=True)\n",
    "        \n",
    "        \n",
    "    ## INFORM USER AND SAVE EMPTY LIST\n",
    "    print(f\"[i] {JSON_FILE} not found. Saving empty list to file.\")\n",
    "    \n",
    "    \n",
    "    ## save the first page of results\n",
    "    with open(JSON_FILE,'w') as f:\n",
    "        json.dump([],f)  \n",
    "## If it exists, inform user\n",
    "else:\n",
    "    print(f\"[i] {JSON_FILE} already exists.\")"
   ]
  },
  {
   "cell_type": "code",
   "execution_count": 18,
   "id": "45e31059",
   "metadata": {},
   "outputs": [
    {
     "name": "stdout",
     "output_type": "stream",
     "text": [
      "- 0 previous results found.\n"
     ]
    }
   ],
   "source": [
    "# Determine how many results are already in the file:\n",
    "\n",
    "## Load previous results and use len of results for offset:\n",
    "with open(JSON_FILE,'r') as f:\n",
    "    previous_results = json.load(f)\n",
    "    \n",
    "## set offset based on previous results\n",
    "n_results = len(previous_results)\n",
    "print(f'- {n_results} previous results found.')"
   ]
  },
  {
   "cell_type": "code",
   "execution_count": 19,
   "id": "03f4c72c",
   "metadata": {},
   "outputs": [
    {
     "data": {
      "text/plain": [
       "dict_keys(['businesses', 'total', 'region'])"
      ]
     },
     "execution_count": 19,
     "metadata": {},
     "output_type": "execute_result"
    }
   ],
   "source": [
    "# Search_query method to perform our API call:\n",
    "\n",
    "results = yelp_api.search_query(location=LOCATION,\n",
    "                                term=TERM,\n",
    "                               offset=n_results)\n",
    "results.keys()"
   ]
  },
  {
   "cell_type": "code",
   "execution_count": 20,
   "id": "439d9800",
   "metadata": {},
   "outputs": [
    {
     "data": {
      "text/plain": [
       "2000"
      ]
     },
     "execution_count": 20,
     "metadata": {},
     "output_type": "execute_result"
    }
   ],
   "source": [
    "# Total number of results:\n",
    "\n",
    "total_results = results['total']\n",
    "total_results"
   ]
  },
  {
   "cell_type": "code",
   "execution_count": 21,
   "id": "7899adf8",
   "metadata": {},
   "outputs": [
    {
     "data": {
      "text/plain": [
       "20"
      ]
     },
     "execution_count": 21,
     "metadata": {},
     "output_type": "execute_result"
    }
   ],
   "source": [
    "# Results with details:\n",
    "\n",
    "results_per_page = len(results['businesses'])\n",
    "results_per_page"
   ]
  },
  {
   "cell_type": "code",
   "execution_count": 22,
   "id": "e2d5e864",
   "metadata": {},
   "outputs": [
    {
     "data": {
      "text/plain": [
       "100"
      ]
     },
     "execution_count": 22,
     "metadata": {},
     "output_type": "execute_result"
    }
   ],
   "source": [
    "# Finding the number of needed pages:\n",
    "\n",
    "# Import additional packages for controlling our loop:\n",
    "\n",
    "import time, math\n",
    "# Use math.ceil to round up for the total number of pages of results.\n",
    "n_pages = math.ceil((results['total']-n_results)/ results_per_page)\n",
    "n_pages"
   ]
  },
  {
   "cell_type": "code",
   "execution_count": 24,
   "id": "5d2949ef",
   "metadata": {},
   "outputs": [],
   "source": [
    "# Adding results to JSON file:\n",
    "\n",
    "previous_results.extend(results['businesses'])  \n",
    "with open(JSON_FILE,'w') as f:\n",
    "     json.dump(previous_results,f)"
   ]
  },
  {
   "cell_type": "code",
   "execution_count": 25,
   "id": "6f532f78",
   "metadata": {},
   "outputs": [
    {
     "data": {
      "application/vnd.jupyter.widget-view+json": {
       "model_id": "0564193a870e471abc3602f90fe09b77",
       "version_major": 2,
       "version_minor": 0
      },
      "text/plain": [
       "  0%|          | 0/100 [00:00<?, ?it/s]"
      ]
     },
     "metadata": {},
     "output_type": "display_data"
    }
   ],
   "source": [
    "# Adding a progress bar with pauses:\n",
    "\n",
    "from tqdm.notebook import tqdm_notebook\n",
    "import time\n",
    "for i in tqdm_notebook(range(n_pages)):\n",
    "    # adds 200 ms pause\n",
    "    time.sleep(.2) "
   ]
  },
  {
   "cell_type": "code",
   "execution_count": 26,
   "id": "13805d65",
   "metadata": {},
   "outputs": [
    {
     "data": {
      "application/vnd.jupyter.widget-view+json": {
       "model_id": "542d778febfc49439be6abb1516f860c",
       "version_major": 2,
       "version_minor": 0
      },
      "text/plain": [
       "  0%|          | 0/100 [00:00<?, ?it/s]"
      ]
     },
     "metadata": {},
     "output_type": "display_data"
    },
    {
     "ename": "YelpAPIError",
     "evalue": "VALIDATION_ERROR: Too many results requested, limit+offset must be <= 1000.",
     "output_type": "error",
     "traceback": [
      "\u001b[1;31m---------------------------------------------------------------------------\u001b[0m",
      "\u001b[1;31mYelpAPIError\u001b[0m                              Traceback (most recent call last)",
      "\u001b[1;32m~\\AppData\\Local\\Temp\\ipykernel_3824\\611412586.py\u001b[0m in \u001b[0;36m<module>\u001b[1;34m\u001b[0m\n\u001b[0;32m     16\u001b[0m     results = yelp_api.search_query(location=LOCATION,\n\u001b[0;32m     17\u001b[0m                                     \u001b[0mterm\u001b[0m\u001b[1;33m=\u001b[0m\u001b[0mTERM\u001b[0m\u001b[1;33m,\u001b[0m\u001b[1;33m\u001b[0m\u001b[1;33m\u001b[0m\u001b[0m\n\u001b[1;32m---> 18\u001b[1;33m                                     offset=n_results)\n\u001b[0m\u001b[0;32m     19\u001b[0m \u001b[1;33m\u001b[0m\u001b[0m\n\u001b[0;32m     20\u001b[0m     \u001b[1;31m## append new results and save to file\u001b[0m\u001b[1;33m\u001b[0m\u001b[1;33m\u001b[0m\u001b[1;33m\u001b[0m\u001b[0m\n",
      "\u001b[1;32m~\\anaconda3\\envs\\dojo-env\\lib\\site-packages\\yelpapi\\yelpapi.py\u001b[0m in \u001b[0;36msearch_query\u001b[1;34m(self, **kwargs)\u001b[0m\n\u001b[0;32m    232\u001b[0m                              '(parameters \"latitude\" and \"longitude\") must be provided.')\n\u001b[0;32m    233\u001b[0m \u001b[1;33m\u001b[0m\u001b[0m\n\u001b[1;32m--> 234\u001b[1;33m         \u001b[1;32mreturn\u001b[0m \u001b[0mself\u001b[0m\u001b[1;33m.\u001b[0m\u001b[0m_query\u001b[0m\u001b[1;33m(\u001b[0m\u001b[0mSEARCH_API_URL\u001b[0m\u001b[1;33m,\u001b[0m \u001b[1;33m**\u001b[0m\u001b[0mkwargs\u001b[0m\u001b[1;33m)\u001b[0m\u001b[1;33m\u001b[0m\u001b[1;33m\u001b[0m\u001b[0m\n\u001b[0m\u001b[0;32m    235\u001b[0m \u001b[1;33m\u001b[0m\u001b[0m\n\u001b[0;32m    236\u001b[0m     \u001b[1;32mdef\u001b[0m \u001b[0mtransaction_search_query\u001b[0m\u001b[1;33m(\u001b[0m\u001b[0mself\u001b[0m\u001b[1;33m,\u001b[0m \u001b[0mtransaction_type\u001b[0m\u001b[1;33m,\u001b[0m \u001b[1;33m**\u001b[0m\u001b[0mkwargs\u001b[0m\u001b[1;33m)\u001b[0m\u001b[1;33m:\u001b[0m\u001b[1;33m\u001b[0m\u001b[1;33m\u001b[0m\u001b[0m\n",
      "\u001b[1;32m~\\anaconda3\\envs\\dojo-env\\lib\\site-packages\\yelpapi\\yelpapi.py\u001b[0m in \u001b[0;36m_query\u001b[1;34m(self, url, **kwargs)\u001b[0m\n\u001b[0;32m    281\u001b[0m         \u001b[1;32mif\u001b[0m \u001b[1;34m'error'\u001b[0m \u001b[1;32min\u001b[0m \u001b[0mresponse_json\u001b[0m\u001b[1;33m:\u001b[0m\u001b[1;33m\u001b[0m\u001b[1;33m\u001b[0m\u001b[0m\n\u001b[0;32m    282\u001b[0m             raise YelpAPI.YelpAPIError('{}: {}'.format(response_json['error']['code'],\n\u001b[1;32m--> 283\u001b[1;33m                                                        response_json['error']['description']))\n\u001b[0m\u001b[0;32m    284\u001b[0m \u001b[1;33m\u001b[0m\u001b[0m\n\u001b[0;32m    285\u001b[0m         \u001b[1;31m# we got a good response, so return\u001b[0m\u001b[1;33m\u001b[0m\u001b[1;33m\u001b[0m\u001b[1;33m\u001b[0m\u001b[0m\n",
      "\u001b[1;31mYelpAPIError\u001b[0m: VALIDATION_ERROR: Too many results requested, limit+offset must be <= 1000."
     ]
    }
   ],
   "source": [
    "# For Loop to iterate through each page:\n",
    "\n",
    "for i in tqdm_notebook( range(1,n_pages+1)):\n",
    "    time.sleep(.2)\n",
    "    \n",
    "    ## Read in results in progress file and check the length:\n",
    "    \n",
    "    with open(JSON_FILE, 'r') as f:\n",
    "        previous_results = json.load(f)\n",
    "        \n",
    "    ## save number of results for to use as offset:\n",
    "    \n",
    "    n_results = len(previous_results)\n",
    "    \n",
    "    ## use n_results as the OFFSET: \n",
    "    results = yelp_api.search_query(location=LOCATION,\n",
    "                                    term=TERM, \n",
    "                                    offset=n_results)\n",
    "    \n",
    "    ## append new results and save to file\n",
    "    previous_results.extend(results['businesses'])\n",
    "    \n",
    "#     display(previous_results)\n",
    "    with open(JSON_FILE,'w') as f:\n",
    "        json.dump(previous_results,f)"
   ]
  },
  {
   "cell_type": "code",
   "execution_count": 28,
   "id": "5d7aadda",
   "metadata": {},
   "outputs": [
    {
     "data": {
      "text/html": [
       "<div>\n",
       "<style scoped>\n",
       "    .dataframe tbody tr th:only-of-type {\n",
       "        vertical-align: middle;\n",
       "    }\n",
       "\n",
       "    .dataframe tbody tr th {\n",
       "        vertical-align: top;\n",
       "    }\n",
       "\n",
       "    .dataframe thead th {\n",
       "        text-align: right;\n",
       "    }\n",
       "</style>\n",
       "<table border=\"1\" class=\"dataframe\">\n",
       "  <thead>\n",
       "    <tr style=\"text-align: right;\">\n",
       "      <th></th>\n",
       "      <th>id</th>\n",
       "      <th>alias</th>\n",
       "      <th>name</th>\n",
       "      <th>image_url</th>\n",
       "      <th>is_closed</th>\n",
       "      <th>url</th>\n",
       "      <th>review_count</th>\n",
       "      <th>categories</th>\n",
       "      <th>rating</th>\n",
       "      <th>coordinates</th>\n",
       "      <th>transactions</th>\n",
       "      <th>location</th>\n",
       "      <th>phone</th>\n",
       "      <th>display_phone</th>\n",
       "      <th>distance</th>\n",
       "      <th>price</th>\n",
       "    </tr>\n",
       "  </thead>\n",
       "  <tbody>\n",
       "    <tr>\n",
       "      <th>0</th>\n",
       "      <td>IXGLhRPnboqlWymYQ5_b0g</td>\n",
       "      <td>willow-vegan-restaurant-new-york</td>\n",
       "      <td>Willow Vegan Restaurant</td>\n",
       "      <td>https://s3-media3.fl.yelpcdn.com/bphoto/ty4lZ6...</td>\n",
       "      <td>False</td>\n",
       "      <td>https://www.yelp.com/biz/willow-vegan-restaura...</td>\n",
       "      <td>231</td>\n",
       "      <td>[{'alias': 'vegan', 'title': 'Vegan'}, {'alias...</td>\n",
       "      <td>4.5</td>\n",
       "      <td>{'latitude': 40.743619, 'longitude': -73.999928}</td>\n",
       "      <td>[delivery, pickup]</td>\n",
       "      <td>{'address1': '199 8th Ave', 'address2': None, ...</td>\n",
       "      <td>+12129292889</td>\n",
       "      <td>(212) 929-2889</td>\n",
       "      <td>959.630486</td>\n",
       "      <td>NaN</td>\n",
       "    </tr>\n",
       "    <tr>\n",
       "      <th>1</th>\n",
       "      <td>q7U2GCMWIZxIqWeMDml0LQ</td>\n",
       "      <td>pure-ktchn-new-york</td>\n",
       "      <td>Pure Ktchn</td>\n",
       "      <td>https://s3-media4.fl.yelpcdn.com/bphoto/kDc7Yk...</td>\n",
       "      <td>False</td>\n",
       "      <td>https://www.yelp.com/biz/pure-ktchn-new-york?a...</td>\n",
       "      <td>363</td>\n",
       "      <td>[{'alias': 'salad', 'title': 'Salad'}, {'alias...</td>\n",
       "      <td>4.5</td>\n",
       "      <td>{'latitude': 40.76053, 'longitude': -73.98992}</td>\n",
       "      <td>[delivery, pickup]</td>\n",
       "      <td>{'address1': '352 West 46th St', 'address2': N...</td>\n",
       "      <td>+16467558502</td>\n",
       "      <td>(646) 755-8502</td>\n",
       "      <td>1090.443189</td>\n",
       "      <td>$$</td>\n",
       "    </tr>\n",
       "    <tr>\n",
       "      <th>2</th>\n",
       "      <td>KxyH5zvTyXawl17lHjA4SQ</td>\n",
       "      <td>beyond-sushi-new-york-5</td>\n",
       "      <td>Beyond Sushi</td>\n",
       "      <td>https://s3-media3.fl.yelpcdn.com/bphoto/5CoaEV...</td>\n",
       "      <td>False</td>\n",
       "      <td>https://www.yelp.com/biz/beyond-sushi-new-york...</td>\n",
       "      <td>630</td>\n",
       "      <td>[{'alias': 'vegan', 'title': 'Vegan'}, {'alias...</td>\n",
       "      <td>4.5</td>\n",
       "      <td>{'latitude': 40.75247, 'longitude': -73.98845}</td>\n",
       "      <td>[delivery, pickup]</td>\n",
       "      <td>{'address1': '134 West 37th St', 'address2': N...</td>\n",
       "      <td>+12125640869</td>\n",
       "      <td>(212) 564-0869</td>\n",
       "      <td>645.115026</td>\n",
       "      <td>$$</td>\n",
       "    </tr>\n",
       "    <tr>\n",
       "      <th>3</th>\n",
       "      <td>U6l20gH8YuOJMO8vF6_Ufw</td>\n",
       "      <td>jajaja-mexicana-new-york</td>\n",
       "      <td>Jajaja Mexicana</td>\n",
       "      <td>https://s3-media4.fl.yelpcdn.com/bphoto/twcGRQ...</td>\n",
       "      <td>False</td>\n",
       "      <td>https://www.yelp.com/biz/jajaja-mexicana-new-y...</td>\n",
       "      <td>41</td>\n",
       "      <td>[{'alias': 'mexican', 'title': 'Mexican'}, {'a...</td>\n",
       "      <td>4.5</td>\n",
       "      <td>{'latitude': 40.75264793272132, 'longitude': -...</td>\n",
       "      <td>[delivery, pickup]</td>\n",
       "      <td>{'address1': '450 W 33rd St', 'address2': None...</td>\n",
       "      <td>+19177228419</td>\n",
       "      <td>(917) 722-8419</td>\n",
       "      <td>320.020283</td>\n",
       "      <td>NaN</td>\n",
       "    </tr>\n",
       "    <tr>\n",
       "      <th>4</th>\n",
       "      <td>oTL_nPII6x0HfPVpEQklUg</td>\n",
       "      <td>planta-queen-nomad-new-york</td>\n",
       "      <td>PLANTA Queen - Nomad</td>\n",
       "      <td>https://s3-media4.fl.yelpcdn.com/bphoto/HJHCvy...</td>\n",
       "      <td>False</td>\n",
       "      <td>https://www.yelp.com/biz/planta-queen-nomad-ne...</td>\n",
       "      <td>347</td>\n",
       "      <td>[{'alias': 'sushi', 'title': 'Sushi Bars'}, {'...</td>\n",
       "      <td>4.5</td>\n",
       "      <td>{'latitude': 40.744435, 'longitude': -73.98832}</td>\n",
       "      <td>[delivery, pickup]</td>\n",
       "      <td>{'address1': '15 W 27th St', 'address2': None,...</td>\n",
       "      <td>+19176757700</td>\n",
       "      <td>(917) 675-7700</td>\n",
       "      <td>1052.904676</td>\n",
       "      <td>$$</td>\n",
       "    </tr>\n",
       "  </tbody>\n",
       "</table>\n",
       "</div>"
      ],
      "text/plain": [
       "                       id                             alias  \\\n",
       "0  IXGLhRPnboqlWymYQ5_b0g  willow-vegan-restaurant-new-york   \n",
       "1  q7U2GCMWIZxIqWeMDml0LQ               pure-ktchn-new-york   \n",
       "2  KxyH5zvTyXawl17lHjA4SQ           beyond-sushi-new-york-5   \n",
       "3  U6l20gH8YuOJMO8vF6_Ufw          jajaja-mexicana-new-york   \n",
       "4  oTL_nPII6x0HfPVpEQklUg       planta-queen-nomad-new-york   \n",
       "\n",
       "                      name                                          image_url  \\\n",
       "0  Willow Vegan Restaurant  https://s3-media3.fl.yelpcdn.com/bphoto/ty4lZ6...   \n",
       "1               Pure Ktchn  https://s3-media4.fl.yelpcdn.com/bphoto/kDc7Yk...   \n",
       "2             Beyond Sushi  https://s3-media3.fl.yelpcdn.com/bphoto/5CoaEV...   \n",
       "3          Jajaja Mexicana  https://s3-media4.fl.yelpcdn.com/bphoto/twcGRQ...   \n",
       "4     PLANTA Queen - Nomad  https://s3-media4.fl.yelpcdn.com/bphoto/HJHCvy...   \n",
       "\n",
       "   is_closed                                                url  review_count  \\\n",
       "0      False  https://www.yelp.com/biz/willow-vegan-restaura...           231   \n",
       "1      False  https://www.yelp.com/biz/pure-ktchn-new-york?a...           363   \n",
       "2      False  https://www.yelp.com/biz/beyond-sushi-new-york...           630   \n",
       "3      False  https://www.yelp.com/biz/jajaja-mexicana-new-y...            41   \n",
       "4      False  https://www.yelp.com/biz/planta-queen-nomad-ne...           347   \n",
       "\n",
       "                                          categories  rating  \\\n",
       "0  [{'alias': 'vegan', 'title': 'Vegan'}, {'alias...     4.5   \n",
       "1  [{'alias': 'salad', 'title': 'Salad'}, {'alias...     4.5   \n",
       "2  [{'alias': 'vegan', 'title': 'Vegan'}, {'alias...     4.5   \n",
       "3  [{'alias': 'mexican', 'title': 'Mexican'}, {'a...     4.5   \n",
       "4  [{'alias': 'sushi', 'title': 'Sushi Bars'}, {'...     4.5   \n",
       "\n",
       "                                         coordinates        transactions  \\\n",
       "0   {'latitude': 40.743619, 'longitude': -73.999928}  [delivery, pickup]   \n",
       "1     {'latitude': 40.76053, 'longitude': -73.98992}  [delivery, pickup]   \n",
       "2     {'latitude': 40.75247, 'longitude': -73.98845}  [delivery, pickup]   \n",
       "3  {'latitude': 40.75264793272132, 'longitude': -...  [delivery, pickup]   \n",
       "4    {'latitude': 40.744435, 'longitude': -73.98832}  [delivery, pickup]   \n",
       "\n",
       "                                            location         phone  \\\n",
       "0  {'address1': '199 8th Ave', 'address2': None, ...  +12129292889   \n",
       "1  {'address1': '352 West 46th St', 'address2': N...  +16467558502   \n",
       "2  {'address1': '134 West 37th St', 'address2': N...  +12125640869   \n",
       "3  {'address1': '450 W 33rd St', 'address2': None...  +19177228419   \n",
       "4  {'address1': '15 W 27th St', 'address2': None,...  +19176757700   \n",
       "\n",
       "    display_phone     distance price  \n",
       "0  (212) 929-2889   959.630486   NaN  \n",
       "1  (646) 755-8502  1090.443189    $$  \n",
       "2  (212) 564-0869   645.115026    $$  \n",
       "3  (917) 722-8419   320.020283   NaN  \n",
       "4  (917) 675-7700  1052.904676    $$  "
      ]
     },
     "metadata": {},
     "output_type": "display_data"
    },
    {
     "data": {
      "text/html": [
       "<div>\n",
       "<style scoped>\n",
       "    .dataframe tbody tr th:only-of-type {\n",
       "        vertical-align: middle;\n",
       "    }\n",
       "\n",
       "    .dataframe tbody tr th {\n",
       "        vertical-align: top;\n",
       "    }\n",
       "\n",
       "    .dataframe thead th {\n",
       "        text-align: right;\n",
       "    }\n",
       "</style>\n",
       "<table border=\"1\" class=\"dataframe\">\n",
       "  <thead>\n",
       "    <tr style=\"text-align: right;\">\n",
       "      <th></th>\n",
       "      <th>id</th>\n",
       "      <th>alias</th>\n",
       "      <th>name</th>\n",
       "      <th>image_url</th>\n",
       "      <th>is_closed</th>\n",
       "      <th>url</th>\n",
       "      <th>review_count</th>\n",
       "      <th>categories</th>\n",
       "      <th>rating</th>\n",
       "      <th>coordinates</th>\n",
       "      <th>transactions</th>\n",
       "      <th>location</th>\n",
       "      <th>phone</th>\n",
       "      <th>display_phone</th>\n",
       "      <th>distance</th>\n",
       "      <th>price</th>\n",
       "    </tr>\n",
       "  </thead>\n",
       "  <tbody>\n",
       "    <tr>\n",
       "      <th>995</th>\n",
       "      <td>VLGmFHE4s0Sfu0piMVQa1Q</td>\n",
       "      <td>hold-fast-kitchen-and-spirits-new-york</td>\n",
       "      <td>Hold Fast Kitchen &amp; Spirits</td>\n",
       "      <td>https://s3-media4.fl.yelpcdn.com/bphoto/2a8BP3...</td>\n",
       "      <td>False</td>\n",
       "      <td>https://www.yelp.com/biz/hold-fast-kitchen-and...</td>\n",
       "      <td>524</td>\n",
       "      <td>[{'alias': 'newamerican', 'title': 'American (...</td>\n",
       "      <td>4.5</td>\n",
       "      <td>{'latitude': 40.76064, 'longitude': -73.99023}</td>\n",
       "      <td>[pickup, delivery]</td>\n",
       "      <td>{'address1': '364 W 46th St', 'address2': None...</td>\n",
       "      <td>+19172616691</td>\n",
       "      <td>(917) 261-6691</td>\n",
       "      <td>1095.471783</td>\n",
       "      <td>$$</td>\n",
       "    </tr>\n",
       "    <tr>\n",
       "      <th>996</th>\n",
       "      <td>TL-z5M9VAwEmPRPRCK7Tkw</td>\n",
       "      <td>american-bar-new-york</td>\n",
       "      <td>American Bar</td>\n",
       "      <td>https://s3-media4.fl.yelpcdn.com/bphoto/CdH6fK...</td>\n",
       "      <td>False</td>\n",
       "      <td>https://www.yelp.com/biz/american-bar-new-york...</td>\n",
       "      <td>95</td>\n",
       "      <td>[{'alias': 'bars', 'title': 'Bars'}, {'alias':...</td>\n",
       "      <td>3.5</td>\n",
       "      <td>{'latitude': 40.734899, 'longitude': -74.00034}</td>\n",
       "      <td>[pickup, delivery]</td>\n",
       "      <td>{'address1': '33 Greenwich Ave', 'address2': '...</td>\n",
       "      <td>+12123704600</td>\n",
       "      <td>(212) 370-4600</td>\n",
       "      <td>1912.536358</td>\n",
       "      <td>NaN</td>\n",
       "    </tr>\n",
       "    <tr>\n",
       "      <th>997</th>\n",
       "      <td>aTFkjo0scqmOgsFF5kuGXg</td>\n",
       "      <td>claudette-new-york</td>\n",
       "      <td>Claudette</td>\n",
       "      <td>https://s3-media4.fl.yelpcdn.com/bphoto/pwJMLX...</td>\n",
       "      <td>False</td>\n",
       "      <td>https://www.yelp.com/biz/claudette-new-york?ad...</td>\n",
       "      <td>466</td>\n",
       "      <td>[{'alias': 'french', 'title': 'French'}, {'ali...</td>\n",
       "      <td>4.0</td>\n",
       "      <td>{'latitude': 40.7331, 'longitude': -73.99596}</td>\n",
       "      <td>[pickup, delivery]</td>\n",
       "      <td>{'address1': '24 5th Ave', 'address2': '', 'ad...</td>\n",
       "      <td>+12128682424</td>\n",
       "      <td>(212) 868-2424</td>\n",
       "      <td>2064.628095</td>\n",
       "      <td>$$$</td>\n",
       "    </tr>\n",
       "    <tr>\n",
       "      <th>998</th>\n",
       "      <td>zoJRxiyaLGV1BitvduDFcw</td>\n",
       "      <td>sweetgreen-new-york-9</td>\n",
       "      <td>sweetgreen</td>\n",
       "      <td>https://s3-media3.fl.yelpcdn.com/bphoto/mLXub8...</td>\n",
       "      <td>False</td>\n",
       "      <td>https://www.yelp.com/biz/sweetgreen-new-york-9...</td>\n",
       "      <td>183</td>\n",
       "      <td>[{'alias': 'salad', 'title': 'Salad'}, {'alias...</td>\n",
       "      <td>3.5</td>\n",
       "      <td>{'latitude': 40.7380613354427, 'longitude': -7...</td>\n",
       "      <td>[pickup, delivery]</td>\n",
       "      <td>{'address1': '8 E 18th St', 'address2': '', 'a...</td>\n",
       "      <td>+16466923131</td>\n",
       "      <td>(646) 692-3131</td>\n",
       "      <td>1584.582509</td>\n",
       "      <td>$$</td>\n",
       "    </tr>\n",
       "    <tr>\n",
       "      <th>999</th>\n",
       "      <td>XJ29gxroNLq_e0hqhO-n0g</td>\n",
       "      <td>pressed-new-york-9</td>\n",
       "      <td>Pressed</td>\n",
       "      <td>https://s3-media3.fl.yelpcdn.com/bphoto/UmqZQi...</td>\n",
       "      <td>False</td>\n",
       "      <td>https://www.yelp.com/biz/pressed-new-york-9?ad...</td>\n",
       "      <td>78</td>\n",
       "      <td>[{'alias': 'juicebars', 'title': 'Juice Bars &amp;...</td>\n",
       "      <td>4.5</td>\n",
       "      <td>{'latitude': 40.74128, 'longitude': -73.98536}</td>\n",
       "      <td>[pickup, delivery]</td>\n",
       "      <td>{'address1': '337 Park Ave S', 'address2': '',...</td>\n",
       "      <td>+16468337150</td>\n",
       "      <td>(646) 833-7150</td>\n",
       "      <td>1483.729261</td>\n",
       "      <td>$$</td>\n",
       "    </tr>\n",
       "  </tbody>\n",
       "</table>\n",
       "</div>"
      ],
      "text/plain": [
       "                         id                                   alias  \\\n",
       "995  VLGmFHE4s0Sfu0piMVQa1Q  hold-fast-kitchen-and-spirits-new-york   \n",
       "996  TL-z5M9VAwEmPRPRCK7Tkw                   american-bar-new-york   \n",
       "997  aTFkjo0scqmOgsFF5kuGXg                      claudette-new-york   \n",
       "998  zoJRxiyaLGV1BitvduDFcw                   sweetgreen-new-york-9   \n",
       "999  XJ29gxroNLq_e0hqhO-n0g                      pressed-new-york-9   \n",
       "\n",
       "                            name  \\\n",
       "995  Hold Fast Kitchen & Spirits   \n",
       "996                 American Bar   \n",
       "997                    Claudette   \n",
       "998                   sweetgreen   \n",
       "999                      Pressed   \n",
       "\n",
       "                                             image_url  is_closed  \\\n",
       "995  https://s3-media4.fl.yelpcdn.com/bphoto/2a8BP3...      False   \n",
       "996  https://s3-media4.fl.yelpcdn.com/bphoto/CdH6fK...      False   \n",
       "997  https://s3-media4.fl.yelpcdn.com/bphoto/pwJMLX...      False   \n",
       "998  https://s3-media3.fl.yelpcdn.com/bphoto/mLXub8...      False   \n",
       "999  https://s3-media3.fl.yelpcdn.com/bphoto/UmqZQi...      False   \n",
       "\n",
       "                                                   url  review_count  \\\n",
       "995  https://www.yelp.com/biz/hold-fast-kitchen-and...           524   \n",
       "996  https://www.yelp.com/biz/american-bar-new-york...            95   \n",
       "997  https://www.yelp.com/biz/claudette-new-york?ad...           466   \n",
       "998  https://www.yelp.com/biz/sweetgreen-new-york-9...           183   \n",
       "999  https://www.yelp.com/biz/pressed-new-york-9?ad...            78   \n",
       "\n",
       "                                            categories  rating  \\\n",
       "995  [{'alias': 'newamerican', 'title': 'American (...     4.5   \n",
       "996  [{'alias': 'bars', 'title': 'Bars'}, {'alias':...     3.5   \n",
       "997  [{'alias': 'french', 'title': 'French'}, {'ali...     4.0   \n",
       "998  [{'alias': 'salad', 'title': 'Salad'}, {'alias...     3.5   \n",
       "999  [{'alias': 'juicebars', 'title': 'Juice Bars &...     4.5   \n",
       "\n",
       "                                           coordinates        transactions  \\\n",
       "995     {'latitude': 40.76064, 'longitude': -73.99023}  [pickup, delivery]   \n",
       "996    {'latitude': 40.734899, 'longitude': -74.00034}  [pickup, delivery]   \n",
       "997      {'latitude': 40.7331, 'longitude': -73.99596}  [pickup, delivery]   \n",
       "998  {'latitude': 40.7380613354427, 'longitude': -7...  [pickup, delivery]   \n",
       "999     {'latitude': 40.74128, 'longitude': -73.98536}  [pickup, delivery]   \n",
       "\n",
       "                                              location         phone  \\\n",
       "995  {'address1': '364 W 46th St', 'address2': None...  +19172616691   \n",
       "996  {'address1': '33 Greenwich Ave', 'address2': '...  +12123704600   \n",
       "997  {'address1': '24 5th Ave', 'address2': '', 'ad...  +12128682424   \n",
       "998  {'address1': '8 E 18th St', 'address2': '', 'a...  +16466923131   \n",
       "999  {'address1': '337 Park Ave S', 'address2': '',...  +16468337150   \n",
       "\n",
       "      display_phone     distance price  \n",
       "995  (917) 261-6691  1095.471783    $$  \n",
       "996  (212) 370-4600  1912.536358   NaN  \n",
       "997  (212) 868-2424  2064.628095   $$$  \n",
       "998  (646) 692-3131  1584.582509    $$  \n",
       "999  (646) 833-7150  1483.729261    $$  "
      ]
     },
     "metadata": {},
     "output_type": "display_data"
    }
   ],
   "source": [
    "# Converting the JSON files to a DataFrame:\n",
    "\n",
    "final_df = pd.read_json(JSON_FILE)\n",
    "display(final_df.head(), final_df.tail())"
   ]
  },
  {
   "cell_type": "code",
   "execution_count": 29,
   "id": "62cf7c66",
   "metadata": {},
   "outputs": [
    {
     "data": {
      "text/plain": [
       "20"
      ]
     },
     "execution_count": 29,
     "metadata": {},
     "output_type": "execute_result"
    }
   ],
   "source": [
    "# check for duplicate IDs\n",
    "final_df.duplicated(subset='id').sum()"
   ]
  },
  {
   "cell_type": "code",
   "execution_count": 30,
   "id": "ca9494e5",
   "metadata": {},
   "outputs": [],
   "source": [
    "final_df = final_df.drop_duplicates(subset='id')"
   ]
  },
  {
   "cell_type": "code",
   "execution_count": 31,
   "id": "f57416f1",
   "metadata": {},
   "outputs": [],
   "source": [
    "# save the final results to a compressed csv:\n",
    "\n",
    "final_df.to_csv('Data/final_results_crab_cakes.csv.gz', compression='gzip',index=False)"
   ]
  }
 ],
 "metadata": {
  "kernelspec": {
   "display_name": "Python (dojo-env)",
   "language": "python",
   "name": "dojo-env"
  },
  "language_info": {
   "codemirror_mode": {
    "name": "ipython",
    "version": 3
   },
   "file_extension": ".py",
   "mimetype": "text/x-python",
   "name": "python",
   "nbconvert_exporter": "python",
   "pygments_lexer": "ipython3",
   "version": "3.7.12"
  },
  "toc": {
   "base_numbering": 1,
   "nav_menu": {},
   "number_sections": true,
   "sideBar": true,
   "skip_h1_title": false,
   "title_cell": "Table of Contents",
   "title_sidebar": "Contents",
   "toc_cell": false,
   "toc_position": {},
   "toc_section_display": true,
   "toc_window_display": false
  }
 },
 "nbformat": 4,
 "nbformat_minor": 5
}
