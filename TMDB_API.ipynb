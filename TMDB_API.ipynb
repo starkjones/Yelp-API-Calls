{
 "cells": [
  {
   "cell_type": "markdown",
   "id": "9553bdd2",
   "metadata": {},
   "source": [
    "## Using the TMDB API"
   ]
  },
  {
   "cell_type": "code",
   "execution_count": 2,
   "id": "37471d6c",
   "metadata": {},
   "outputs": [
    {
     "data": {
      "text/plain": [
       "dict_keys(['api-key'])"
      ]
     },
     "execution_count": 2,
     "metadata": {},
     "output_type": "execute_result"
    }
   ],
   "source": [
    "# Import JSON \n",
    "\n",
    "import json\n",
    "with open('/Users/jnate/.secret/tmdb_api.json', 'r') as f:\n",
    "    login = json.load(f)\n",
    "## Display the keys of the loaded dict:\n",
    "login.keys()"
   ]
  },
  {
   "cell_type": "code",
   "execution_count": 3,
   "id": "b80ac877",
   "metadata": {},
   "outputs": [],
   "source": [
    "# Load API key:\n",
    "\n",
    "import tmdbsimple as tmdb\n",
    "tmdb.API_KEY =  login['api-key']"
   ]
  },
  {
   "cell_type": "code",
   "execution_count": 5,
   "id": "569283fe",
   "metadata": {},
   "outputs": [],
   "source": [
    "# Make a movie object using the .Movies function from tmdb\n",
    "movie = tmdb.Movies(603)"
   ]
  },
  {
   "cell_type": "code",
   "execution_count": 8,
   "id": "c9c93b1c",
   "metadata": {},
   "outputs": [
    {
     "data": {
      "text/plain": [
       "{'adult': False,\n",
       " 'backdrop_path': '/y9wuhlrqSHvhTLNVNwKMKe6HZzY.jpg',\n",
       " 'belongs_to_collection': {'id': 2344,\n",
       "  'name': 'The Matrix Collection',\n",
       "  'poster_path': '/bV9qTVHTVf0gkW0j7p7M0ILD4pG.jpg',\n",
       "  'backdrop_path': '/bRm2DEgUiYciDw3myHuYFInD7la.jpg'},\n",
       " 'budget': 63000000,\n",
       " 'genres': [{'id': 28, 'name': 'Action'},\n",
       "  {'id': 878, 'name': 'Science Fiction'}],\n",
       " 'homepage': 'http://www.warnerbros.com/matrix',\n",
       " 'id': 603,\n",
       " 'imdb_id': 'tt0133093',\n",
       " 'original_language': 'en',\n",
       " 'original_title': 'The Matrix',\n",
       " 'overview': 'Set in the 22nd century, The Matrix tells the story of a computer hacker who joins a group of underground insurgents fighting the vast and powerful computers who now rule the earth.',\n",
       " 'popularity': 74.501,\n",
       " 'poster_path': '/f89U3ADr1oiB1s9GkdPOEpXUk5H.jpg',\n",
       " 'production_companies': [{'id': 79,\n",
       "   'logo_path': '/tpFpsqbleCzEE2p5EgvUq6ozfCA.png',\n",
       "   'name': 'Village Roadshow Pictures',\n",
       "   'origin_country': 'US'},\n",
       "  {'id': 174,\n",
       "   'logo_path': '/IuAlhI9eVC9Z8UQWOIDdWRKSEJ.png',\n",
       "   'name': 'Warner Bros. Pictures',\n",
       "   'origin_country': 'US'},\n",
       "  {'id': 372,\n",
       "   'logo_path': None,\n",
       "   'name': 'Groucho II Film Partnership',\n",
       "   'origin_country': ''},\n",
       "  {'id': 1885,\n",
       "   'logo_path': '/tXMFoE8AtNdnFzWOW0aCLwl7xxS.png',\n",
       "   'name': 'Silver Pictures',\n",
       "   'origin_country': 'US'}],\n",
       " 'production_countries': [{'iso_3166_1': 'US',\n",
       "   'name': 'United States of America'}],\n",
       " 'release_date': '1999-03-30',\n",
       " 'revenue': 463517383,\n",
       " 'runtime': 136,\n",
       " 'spoken_languages': [{'english_name': 'English',\n",
       "   'iso_639_1': 'en',\n",
       "   'name': 'English'}],\n",
       " 'status': 'Released',\n",
       " 'tagline': 'Welcome to the Real World.',\n",
       " 'title': 'The Matrix',\n",
       " 'video': False,\n",
       " 'vote_average': 8.2,\n",
       " 'vote_count': 21725}"
      ]
     },
     "execution_count": 8,
     "metadata": {},
     "output_type": "execute_result"
    }
   ],
   "source": [
    "# Movie ofbjects have a .info dictionary\n",
    "info = movie.info()\n",
    "info"
   ]
  },
  {
   "cell_type": "code",
   "execution_count": 9,
   "id": "7f2be8ba",
   "metadata": {},
   "outputs": [
    {
     "data": {
      "text/plain": [
       "63000000"
      ]
     },
     "execution_count": 9,
     "metadata": {},
     "output_type": "execute_result"
    }
   ],
   "source": [
    "info['budget']"
   ]
  },
  {
   "cell_type": "code",
   "execution_count": 11,
   "id": "9b468d8d",
   "metadata": {},
   "outputs": [
    {
     "data": {
      "text/plain": [
       "463517383"
      ]
     },
     "execution_count": 11,
     "metadata": {},
     "output_type": "execute_result"
    }
   ],
   "source": [
    "info['revenue']"
   ]
  },
  {
   "cell_type": "code",
   "execution_count": 13,
   "id": "29821e1a",
   "metadata": {},
   "outputs": [
    {
     "data": {
      "text/plain": [
       "'tt0133093'"
      ]
     },
     "execution_count": 13,
     "metadata": {},
     "output_type": "execute_result"
    }
   ],
   "source": [
    "# Notice that the .info() includes \"imbdb_id\" which we can use to match with \n",
    "# our existing data frame of movies! You will recognize the \"tt\" numbers from imdb.  \n",
    "\n",
    "info['imdb_id']"
   ]
  },
  {
   "cell_type": "markdown",
   "id": "5c4c584a",
   "metadata": {},
   "source": [
    "### Searching with IMDB_ID"
   ]
  },
  {
   "cell_type": "code",
   "execution_count": 14,
   "id": "222d6e54",
   "metadata": {},
   "outputs": [
    {
     "data": {
      "text/plain": [
       "50000000"
      ]
     },
     "execution_count": 14,
     "metadata": {},
     "output_type": "execute_result"
    }
   ],
   "source": [
    "# Try searching by the imdb number. For example, What was the budget of Tom and \n",
    "# Jerry which had imdb id of \"tt1361336\"?:\n",
    "\n",
    "movie = tmdb.Movies('tt1361336')\n",
    "info = movie.info()\n",
    "info['budget']"
   ]
  },
  {
   "cell_type": "code",
   "execution_count": 17,
   "id": "2d21a8d6",
   "metadata": {},
   "outputs": [
    {
     "name": "stdout",
     "output_type": "stream",
     "text": [
      "PG\n",
      "PG\n",
      "PG\n"
     ]
    }
   ],
   "source": [
    "# print the rating of the movie if it is in the US:\n",
    "\n",
    "response = movie.releases()\n",
    "for c in movie.countries:\n",
    "    if c['iso_3166_1'] == 'US':\n",
    "        print(c['certification'])"
   ]
  },
  {
   "cell_type": "code",
   "execution_count": 21,
   "id": "0df18b98",
   "metadata": {},
   "outputs": [],
   "source": [
    "# Add to our dictionary results for the movie.info():\n",
    "\n",
    "# Get movie object for the current id:\n",
    "\n",
    "movie = tmdb.Movies('tt1361336')\n",
    "\n",
    "# Save the .info .releases dictionaries:\n",
    "\n",
    "info =movie.info()\n",
    "releases = movie.releases()\n",
    "\n",
    "# Loop through coutnries in releases:\n",
    "\n",
    "for c in releases['countries']:\n",
    "    # if the country abbreviation is US\n",
    "    if c['iso_3166_1'] =='US':\n",
    "        ## dave a \"certification\" key in the info dict with the certification:\n",
    "        info['certification'] = c['certification']"
   ]
  },
  {
   "cell_type": "code",
   "execution_count": 28,
   "id": "d9781cae",
   "metadata": {},
   "outputs": [],
   "source": [
    "# Write a definition for the above for loop\n",
    "\n",
    "def get_movie_rating(movie_id):\n",
    "# Get movie object for the current id:\n",
    "\n",
    "    movie = tmdb.Movies('tt1361336')\n",
    "\n",
    "    # Save the .info .releases dictionaries:\n",
    "\n",
    "    info =movie.info()\n",
    "    releases = movie.releases()\n",
    "\n",
    "    # Loop through coutnries in releases:\n",
    "\n",
    "    for c in releases['countries']:\n",
    "        # if the country abbreviation is US\n",
    "        if c['iso_3166_1'] =='US':\n",
    "            ## dave a \"certification\" key in the info dict with the certification:\n",
    "            info['certification'] = c['certification']\n",
    "    return info"
   ]
  },
  {
   "cell_type": "code",
   "execution_count": 30,
   "id": "a69459ff",
   "metadata": {},
   "outputs": [],
   "source": [
    "review = get_movie_rating('tt1361336')"
   ]
  }
 ],
 "metadata": {
  "kernelspec": {
   "display_name": "Python (dojo-env)",
   "language": "python",
   "name": "dojo-env"
  },
  "language_info": {
   "codemirror_mode": {
    "name": "ipython",
    "version": 3
   },
   "file_extension": ".py",
   "mimetype": "text/x-python",
   "name": "python",
   "nbconvert_exporter": "python",
   "pygments_lexer": "ipython3",
   "version": "3.7.12"
  },
  "toc": {
   "base_numbering": 1,
   "nav_menu": {},
   "number_sections": true,
   "sideBar": true,
   "skip_h1_title": false,
   "title_cell": "Table of Contents",
   "title_sidebar": "Contents",
   "toc_cell": false,
   "toc_position": {},
   "toc_section_display": true,
   "toc_window_display": false
  }
 },
 "nbformat": 4,
 "nbformat_minor": 5
}
